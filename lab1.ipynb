{
 "cells": [
  {
   "metadata": {
    "ExecuteTime": {
     "end_time": "2025-07-09T11:43:15.178266Z",
     "start_time": "2025-07-09T11:43:15.173027Z"
    }
   },
   "cell_type": "code",
   "source": "import math",
   "id": "3db56322da23a210",
   "outputs": [],
   "execution_count": 1
  },
  {
   "cell_type": "code",
   "id": "initial_id",
   "metadata": {
    "collapsed": true,
    "ExecuteTime": {
     "end_time": "2025-07-09T11:43:15.184468Z",
     "start_time": "2025-07-09T11:43:15.179263Z"
    }
   },
   "source": [
    "def sigmoid(x):\n",
    "    return 1 / (1 + math.exp(-x))\n",
    "\n",
    "def step(x):\n",
    "    return 1 if x >= 0 else 0\n",
    "\n",
    "def tanh(x):\n",
    "    return (math.exp(x) - math.exp(-x)) / (math.exp(x) + math.exp(-x))\n",
    "\n",
    "def arctan(x):\n",
    "    return math.atan(x)\n",
    "\n",
    "def softsign(x):\n",
    "    return x / (1 + abs(x))\n",
    "\n",
    "def forward(weights, bias, inputs):\n",
    "    z = sum(w * x for w, x in zip(weights, inputs)) + bias\n",
    "    return {\n",
    "        'z': f'({weights[0]} * {inputs[0]}) + ({weights[1]} * {inputs[1]}) + {bias} = {round(z, 2)}',\n",
    "        'Тождественная функция': round(z, 2),\n",
    "        'Единичная ступенька': step(z),\n",
    "        'Логистическая': sigmoid(z),\n",
    "        'Гиперболический тангенс': tanh(z),\n",
    "        'Арктангенс': arctan(z),\n",
    "        'Softsign': softsign(z)\n",
    "    }"
   ],
   "outputs": [],
   "execution_count": 2
  },
  {
   "metadata": {
    "ExecuteTime": {
     "end_time": "2025-07-09T11:43:15.189468Z",
     "start_time": "2025-07-09T11:43:15.185464Z"
    }
   },
   "cell_type": "code",
   "source": [
    "weights = [0.6, -0.4]\n",
    "inputs = [1, 0]\n",
    "bias = 0.3\n",
    "\n",
    "print(f'Пусть:'\n",
    "      f'\\n\\tВеса: {weights}'\n",
    "      f'\\n\\tВходы: {inputs}'\n",
    "      f'\\nВычисляем:')\n",
    "\n",
    "output = forward(weights, bias, inputs)\n",
    "\n",
    "for key, value in output.items():\n",
    "    print(f'\\t{key} = {value}')"
   ],
   "id": "dce624c58ab7b33f",
   "outputs": [
    {
     "name": "stdout",
     "output_type": "stream",
     "text": [
      "Пусть:\n",
      "\tВеса: [0.6, -0.4]\n",
      "\tВходы: [1, 0]\n",
      "Вычисляем:\n",
      "\tz = (0.6 * 1) + (-0.4 * 0) + 0.3 = 0.9\n",
      "\tТождественная функция = 0.9\n",
      "\tЕдиничная ступенька = 1\n",
      "\tЛогистическая = 0.7109495026250039\n",
      "\tГиперболический тангенс = 0.7162978701990244\n",
      "\tАрктангенс = 0.7328151017865066\n",
      "\tSoftsign = 0.47368421052631576\n"
     ]
    }
   ],
   "execution_count": 3
  }
 ],
 "metadata": {
  "kernelspec": {
   "display_name": "Python 3",
   "language": "python",
   "name": "python3"
  },
  "language_info": {
   "codemirror_mode": {
    "name": "ipython",
    "version": 2
   },
   "file_extension": ".py",
   "mimetype": "text/x-python",
   "name": "python",
   "nbconvert_exporter": "python",
   "pygments_lexer": "ipython2",
   "version": "2.7.6"
  }
 },
 "nbformat": 4,
 "nbformat_minor": 5
}
